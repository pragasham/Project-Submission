{
  "nbformat": 4,
  "nbformat_minor": 0,
  "metadata": {
    "colab": {
      "provenance": [],
      "gpuType": "T4"
    },
    "kernelspec": {
      "name": "python3",
      "display_name": "Python 3"
    },
    "language_info": {
      "name": "python"
    },
    "accelerator": "GPU"
  },
  "cells": [
    {
      "cell_type": "code",
      "execution_count": 1,
      "metadata": {
        "colab": {
          "base_uri": "https://localhost:8080/"
        },
        "id": "x3BSbrKBJU_o",
        "outputId": "6f2db589-e638-4220-835f-868477b5d93a"
      },
      "outputs": [
        {
          "output_type": "stream",
          "name": "stdout",
          "text": [
            "\u001b[2K     \u001b[90m━━━━━━━━━━━━━━━━━━━━━━━━━━━━━━━━━━━━━━━━\u001b[0m \u001b[32m793.0/793.0 kB\u001b[0m \u001b[31m5.7 MB/s\u001b[0m eta \u001b[36m0:00:00\u001b[0m\n",
            "\u001b[2K     \u001b[90m━━━━━━━━━━━━━━━━━━━━━━━━━━━━━━━━━━━━━━━━\u001b[0m \u001b[32m21.3/21.3 MB\u001b[0m \u001b[31m40.9 MB/s\u001b[0m eta \u001b[36m0:00:00\u001b[0m\n",
            "\u001b[?25h"
          ]
        }
      ],
      "source": [
        "!pip install -q ultralytics"
      ]
    },
    {
      "cell_type": "code",
      "source": [
        "!pip install -q IPython"
      ],
      "metadata": {
        "colab": {
          "base_uri": "https://localhost:8080/"
        },
        "id": "6CELrA6pJaJV",
        "outputId": "73153083-8c34-4d34-f0c6-487bfcb0fdb1"
      },
      "execution_count": 2,
      "outputs": [
        {
          "output_type": "stream",
          "name": "stdout",
          "text": [
            "\u001b[?25l     \u001b[90m━━━━━━━━━━━━━━━━━━━━━━━━━━━━━━━━━━━━━━━━\u001b[0m \u001b[32m0.0/1.6 MB\u001b[0m \u001b[31m?\u001b[0m eta \u001b[36m-:--:--\u001b[0m\r\u001b[2K     \u001b[91m━━━\u001b[0m\u001b[91m╸\u001b[0m\u001b[90m━━━━━━━━━━━━━━━━━━━━━━━━━━━━━━━━━━━━\u001b[0m \u001b[32m0.1/1.6 MB\u001b[0m \u001b[31m4.3 MB/s\u001b[0m eta \u001b[36m0:00:01\u001b[0m\r\u001b[2K     \u001b[91m━━━━━━━━━━━\u001b[0m\u001b[90m╺\u001b[0m\u001b[90m━━━━━━━━━━━━━━━━━━━━━━━━━━━━\u001b[0m \u001b[32m0.5/1.6 MB\u001b[0m \u001b[31m6.6 MB/s\u001b[0m eta \u001b[36m0:00:01\u001b[0m\r\u001b[2K     \u001b[91m━━━━━━━━━━━━━━━━━━━━\u001b[0m\u001b[91m╸\u001b[0m\u001b[90m━━━━━━━━━━━━━━━━━━━\u001b[0m \u001b[32m0.8/1.6 MB\u001b[0m \u001b[31m7.9 MB/s\u001b[0m eta \u001b[36m0:00:01\u001b[0m\r\u001b[2K     \u001b[91m━━━━━━━━━━━━━━━━━━━━━━━━━━━━━━━━\u001b[0m\u001b[91m╸\u001b[0m\u001b[90m━━━━━━━\u001b[0m \u001b[32m1.3/1.6 MB\u001b[0m \u001b[31m9.3 MB/s\u001b[0m eta \u001b[36m0:00:01\u001b[0m\r\u001b[2K     \u001b[90m━━━━━━━━━━━━━━━━━━━━━━━━━━━━━━━━━━━━━━━━\u001b[0m \u001b[32m1.6/1.6 MB\u001b[0m \u001b[31m9.3 MB/s\u001b[0m eta \u001b[36m0:00:00\u001b[0m\n",
            "\u001b[?25h"
          ]
        }
      ]
    },
    {
      "cell_type": "code",
      "source": [
        "import ultralytics"
      ],
      "metadata": {
        "id": "nV4v1ISxJ7ON"
      },
      "execution_count": 3,
      "outputs": []
    },
    {
      "cell_type": "code",
      "source": [
        "from IPython import display"
      ],
      "metadata": {
        "id": "F3aKcPpXJ7K9"
      },
      "execution_count": 4,
      "outputs": []
    },
    {
      "cell_type": "code",
      "source": [
        "from google.colab import drive"
      ],
      "metadata": {
        "id": "yBV4ZE2NJ7Fd"
      },
      "execution_count": 5,
      "outputs": []
    },
    {
      "cell_type": "code",
      "source": [
        "drive.mount('/content/drive')"
      ],
      "metadata": {
        "colab": {
          "base_uri": "https://localhost:8080/"
        },
        "id": "9OUWb93GJ6_l",
        "outputId": "f47a1628-ccf0-4897-fcd4-86a28b7caacc"
      },
      "execution_count": 6,
      "outputs": [
        {
          "output_type": "stream",
          "name": "stdout",
          "text": [
            "Mounted at /content/drive\n"
          ]
        }
      ]
    },
    {
      "cell_type": "code",
      "source": [
        "%cd /content/drive/MyDrive/yolo"
      ],
      "metadata": {
        "colab": {
          "base_uri": "https://localhost:8080/"
        },
        "id": "x0qck_m2KQLf",
        "outputId": "5492c6d5-ec75-44db-eaab-db75e83577de"
      },
      "execution_count": 7,
      "outputs": [
        {
          "output_type": "stream",
          "name": "stdout",
          "text": [
            "/content/drive/MyDrive/yolo\n"
          ]
        }
      ]
    },
    {
      "cell_type": "code",
      "source": [
        "!yolo task=detect mode=train model=yolov8s.pt data=dataset.yaml epochs=10 plots=True"
      ],
      "metadata": {
        "colab": {
          "base_uri": "https://localhost:8080/"
        },
        "id": "doMx7e1ZMAZF",
        "outputId": "de422b72-976e-4a46-9965-493ec2f9043b"
      },
      "execution_count": 8,
      "outputs": [
        {
          "output_type": "stream",
          "name": "stdout",
          "text": [
            "Ultralytics YOLOv8.2.42 🚀 Python-3.10.12 torch-2.3.0+cu121 CUDA:0 (Tesla T4, 15102MiB)\n",
            "\u001b[34m\u001b[1mengine/trainer: \u001b[0mtask=detect, mode=train, model=yolov8s.pt, data=dataset.yaml, epochs=10, time=None, patience=100, batch=16, imgsz=640, save=True, save_period=-1, cache=False, device=None, workers=8, project=None, name=train3, exist_ok=False, pretrained=True, optimizer=auto, verbose=True, seed=0, deterministic=True, single_cls=False, rect=False, cos_lr=False, close_mosaic=10, resume=False, amp=True, fraction=1.0, profile=False, freeze=None, multi_scale=False, overlap_mask=True, mask_ratio=4, dropout=0.0, val=True, split=val, save_json=False, save_hybrid=False, conf=None, iou=0.7, max_det=300, half=False, dnn=False, plots=True, source=None, vid_stride=1, stream_buffer=False, visualize=False, augment=False, agnostic_nms=False, classes=None, retina_masks=False, embed=None, show=False, save_frames=False, save_txt=False, save_conf=False, save_crop=False, show_labels=True, show_conf=True, show_boxes=True, line_width=None, format=torchscript, keras=False, optimize=False, int8=False, dynamic=False, simplify=False, opset=None, workspace=4, nms=False, lr0=0.01, lrf=0.01, momentum=0.937, weight_decay=0.0005, warmup_epochs=3.0, warmup_momentum=0.8, warmup_bias_lr=0.1, box=7.5, cls=0.5, dfl=1.5, pose=12.0, kobj=1.0, label_smoothing=0.0, nbs=64, hsv_h=0.015, hsv_s=0.7, hsv_v=0.4, degrees=0.0, translate=0.1, scale=0.5, shear=0.0, perspective=0.0, flipud=0.0, fliplr=0.5, bgr=0.0, mosaic=1.0, mixup=0.0, copy_paste=0.0, auto_augment=randaugment, erasing=0.4, crop_fraction=1.0, cfg=None, tracker=botsort.yaml, save_dir=runs/detect/train3\n",
            "Downloading https://ultralytics.com/assets/Arial.ttf to '/root/.config/Ultralytics/Arial.ttf'...\n",
            "100% 755k/755k [00:00<00:00, 23.5MB/s]\n",
            "Overriding model.yaml nc=80 with nc=6\n",
            "\n",
            "                   from  n    params  module                                       arguments                     \n",
            "  0                  -1  1       928  ultralytics.nn.modules.conv.Conv             [3, 32, 3, 2]                 \n",
            "  1                  -1  1     18560  ultralytics.nn.modules.conv.Conv             [32, 64, 3, 2]                \n",
            "  2                  -1  1     29056  ultralytics.nn.modules.block.C2f             [64, 64, 1, True]             \n",
            "  3                  -1  1     73984  ultralytics.nn.modules.conv.Conv             [64, 128, 3, 2]               \n",
            "  4                  -1  2    197632  ultralytics.nn.modules.block.C2f             [128, 128, 2, True]           \n",
            "  5                  -1  1    295424  ultralytics.nn.modules.conv.Conv             [128, 256, 3, 2]              \n",
            "  6                  -1  2    788480  ultralytics.nn.modules.block.C2f             [256, 256, 2, True]           \n",
            "  7                  -1  1   1180672  ultralytics.nn.modules.conv.Conv             [256, 512, 3, 2]              \n",
            "  8                  -1  1   1838080  ultralytics.nn.modules.block.C2f             [512, 512, 1, True]           \n",
            "  9                  -1  1    656896  ultralytics.nn.modules.block.SPPF            [512, 512, 5]                 \n",
            " 10                  -1  1         0  torch.nn.modules.upsampling.Upsample         [None, 2, 'nearest']          \n",
            " 11             [-1, 6]  1         0  ultralytics.nn.modules.conv.Concat           [1]                           \n",
            " 12                  -1  1    591360  ultralytics.nn.modules.block.C2f             [768, 256, 1]                 \n",
            " 13                  -1  1         0  torch.nn.modules.upsampling.Upsample         [None, 2, 'nearest']          \n",
            " 14             [-1, 4]  1         0  ultralytics.nn.modules.conv.Concat           [1]                           \n",
            " 15                  -1  1    148224  ultralytics.nn.modules.block.C2f             [384, 128, 1]                 \n",
            " 16                  -1  1    147712  ultralytics.nn.modules.conv.Conv             [128, 128, 3, 2]              \n",
            " 17            [-1, 12]  1         0  ultralytics.nn.modules.conv.Concat           [1]                           \n",
            " 18                  -1  1    493056  ultralytics.nn.modules.block.C2f             [384, 256, 1]                 \n",
            " 19                  -1  1    590336  ultralytics.nn.modules.conv.Conv             [256, 256, 3, 2]              \n",
            " 20             [-1, 9]  1         0  ultralytics.nn.modules.conv.Concat           [1]                           \n",
            " 21                  -1  1   1969152  ultralytics.nn.modules.block.C2f             [768, 512, 1]                 \n",
            " 22        [15, 18, 21]  1   2118370  ultralytics.nn.modules.head.Detect           [6, [128, 256, 512]]          \n",
            "Model summary: 225 layers, 11137922 parameters, 11137906 gradients, 28.7 GFLOPs\n",
            "\n",
            "Transferred 349/355 items from pretrained weights\n",
            "\u001b[34m\u001b[1mTensorBoard: \u001b[0mStart with 'tensorboard --logdir runs/detect/train3', view at http://localhost:6006/\n",
            "Freezing layer 'model.22.dfl.conv.weight'\n",
            "\u001b[34m\u001b[1mAMP: \u001b[0mrunning Automatic Mixed Precision (AMP) checks with YOLOv8n...\n",
            "/usr/local/lib/python3.10/dist-packages/torch/nn/modules/conv.py:456: UserWarning: Plan failed with a cudnnException: CUDNN_BACKEND_EXECUTION_PLAN_DESCRIPTOR: cudnnFinalize Descriptor Failed cudnn_status: CUDNN_STATUS_NOT_SUPPORTED (Triggered internally at ../aten/src/ATen/native/cudnn/Conv_v8.cpp:919.)\n",
            "  return F.conv2d(input, weight, bias, self.stride,\n",
            "\u001b[34m\u001b[1mAMP: \u001b[0mchecks passed ✅\n",
            "\u001b[34m\u001b[1mtrain: \u001b[0mScanning /content/drive/MyDrive/yolo/data/train/labels.cache... 460 images, 0 backgrounds, 0 corrupt: 100% 460/460 [00:00<?, ?it/s]\n",
            "\u001b[34m\u001b[1malbumentations: \u001b[0mBlur(p=0.01, blur_limit=(3, 7)), MedianBlur(p=0.01, blur_limit=(3, 7)), ToGray(p=0.01), CLAHE(p=0.01, clip_limit=(1, 4.0), tile_grid_size=(8, 8))\n",
            "/usr/lib/python3.10/multiprocessing/popen_fork.py:66: RuntimeWarning: os.fork() was called. os.fork() is incompatible with multithreaded code, and JAX is multithreaded, so this will likely lead to a deadlock.\n",
            "  self.pid = os.fork()\n",
            "\u001b[34m\u001b[1mval: \u001b[0mScanning /content/drive/MyDrive/yolo/data/val/labels.cache... 67 images, 0 backgrounds, 0 corrupt: 100% 67/67 [00:00<?, ?it/s]\n",
            "Plotting labels to runs/detect/train3/labels.jpg... \n",
            "\u001b[34m\u001b[1moptimizer:\u001b[0m 'optimizer=auto' found, ignoring 'lr0=0.01' and 'momentum=0.937' and determining best 'optimizer', 'lr0' and 'momentum' automatically... \n",
            "\u001b[34m\u001b[1moptimizer:\u001b[0m AdamW(lr=0.001, momentum=0.9) with parameter groups 57 weight(decay=0.0), 64 weight(decay=0.0005), 63 bias(decay=0.0)\n",
            "\u001b[34m\u001b[1mTensorBoard: \u001b[0mmodel graph visualization added ✅\n",
            "Image sizes 640 train, 640 val\n",
            "Using 2 dataloader workers\n",
            "Logging results to \u001b[1mruns/detect/train3\u001b[0m\n",
            "Starting training for 10 epochs...\n",
            "Closing dataloader mosaic\n",
            "\u001b[34m\u001b[1malbumentations: \u001b[0mBlur(p=0.01, blur_limit=(3, 7)), MedianBlur(p=0.01, blur_limit=(3, 7)), ToGray(p=0.01), CLAHE(p=0.01, clip_limit=(1, 4.0), tile_grid_size=(8, 8))\n",
            "/usr/lib/python3.10/multiprocessing/popen_fork.py:66: RuntimeWarning: os.fork() was called. os.fork() is incompatible with multithreaded code, and JAX is multithreaded, so this will likely lead to a deadlock.\n",
            "  self.pid = os.fork()\n",
            "\n",
            "      Epoch    GPU_mem   box_loss   cls_loss   dfl_loss  Instances       Size\n",
            "       1/10      4.22G      3.423      28.18      1.741         50        640: 100% 29/29 [01:14<00:00,  2.56s/it]\n",
            "                 Class     Images  Instances      Box(P          R      mAP50  mAP50-95):  67% 2/3 [00:06<00:02,  2.83s/it]/usr/local/lib/python3.10/dist-packages/torch/nn/modules/conv.py:456: UserWarning: Plan failed with a cudnnException: CUDNN_BACKEND_EXECUTION_PLAN_DESCRIPTOR: cudnnFinalize Descriptor Failed cudnn_status: CUDNN_STATUS_NOT_SUPPORTED (Triggered internally at ../aten/src/ATen/native/cudnn/Conv_v8.cpp:919.)\n",
            "  return F.conv2d(input, weight, bias, self.stride,\n",
            "                 Class     Images  Instances      Box(P          R      mAP50  mAP50-95): 100% 3/3 [00:06<00:00,  2.26s/it]\n",
            "                   all         67        336      0.647     0.0516     0.0207    0.00768\n",
            "\n",
            "      Epoch    GPU_mem   box_loss   cls_loss   dfl_loss  Instances       Size\n",
            "       2/10      4.13G      2.498      3.909      1.167         40        640: 100% 29/29 [00:54<00:00,  1.87s/it]\n",
            "                 Class     Images  Instances      Box(P          R      mAP50  mAP50-95): 100% 3/3 [00:01<00:00,  2.55it/s]\n",
            "                   all         67        336      0.183      0.368      0.213     0.0798\n",
            "\n",
            "      Epoch    GPU_mem   box_loss   cls_loss   dfl_loss  Instances       Size\n",
            "       3/10      4.16G      2.247       2.49      1.087         55        640: 100% 29/29 [00:55<00:00,  1.92s/it]\n",
            "                 Class     Images  Instances      Box(P          R      mAP50  mAP50-95): 100% 3/3 [00:01<00:00,  2.73it/s]\n",
            "                   all         67        336      0.605      0.461      0.514      0.233\n",
            "\n",
            "      Epoch    GPU_mem   box_loss   cls_loss   dfl_loss  Instances       Size\n",
            "       4/10      4.15G      2.059      1.916       1.06         44        640: 100% 29/29 [01:04<00:00,  2.21s/it]\n",
            "                 Class     Images  Instances      Box(P          R      mAP50  mAP50-95): 100% 3/3 [00:01<00:00,  2.75it/s]\n",
            "                   all         67        336      0.723      0.507      0.641      0.276\n",
            "\n",
            "      Epoch    GPU_mem   box_loss   cls_loss   dfl_loss  Instances       Size\n",
            "       5/10      4.13G       1.98      1.575      1.029         46        640: 100% 29/29 [00:56<00:00,  1.96s/it]\n",
            "                 Class     Images  Instances      Box(P          R      mAP50  mAP50-95): 100% 3/3 [00:01<00:00,  2.60it/s]\n",
            "                   all         67        336       0.82      0.704      0.795      0.372\n",
            "\n",
            "      Epoch    GPU_mem   box_loss   cls_loss   dfl_loss  Instances       Size\n",
            "       6/10      4.16G      1.908      1.425      1.006         50        640: 100% 29/29 [00:57<00:00,  1.97s/it]\n",
            "                 Class     Images  Instances      Box(P          R      mAP50  mAP50-95): 100% 3/3 [00:01<00:00,  2.65it/s]\n",
            "                   all         67        336      0.825      0.749      0.818      0.374\n",
            "\n",
            "      Epoch    GPU_mem   box_loss   cls_loss   dfl_loss  Instances       Size\n",
            "       7/10      4.15G      1.847      1.286     0.9864         50        640: 100% 29/29 [00:56<00:00,  1.93s/it]\n",
            "                 Class     Images  Instances      Box(P          R      mAP50  mAP50-95): 100% 3/3 [00:01<00:00,  2.96it/s]\n",
            "                   all         67        336      0.905      0.769      0.855      0.419\n",
            "\n",
            "      Epoch    GPU_mem   box_loss   cls_loss   dfl_loss  Instances       Size\n",
            "       8/10      4.15G      1.805      1.171     0.9763         54        640: 100% 29/29 [01:00<00:00,  2.08s/it]\n",
            "                 Class     Images  Instances      Box(P          R      mAP50  mAP50-95): 100% 3/3 [00:01<00:00,  1.86it/s]\n",
            "                   all         67        336      0.925      0.807      0.888      0.447\n",
            "\n",
            "      Epoch    GPU_mem   box_loss   cls_loss   dfl_loss  Instances       Size\n",
            "       9/10      4.13G      1.748       1.09     0.9555         49        640: 100% 29/29 [00:55<00:00,  1.92s/it]\n",
            "                 Class     Images  Instances      Box(P          R      mAP50  mAP50-95): 100% 3/3 [00:01<00:00,  1.67it/s]\n",
            "                   all         67        336      0.904      0.821      0.898      0.445\n",
            "\n",
            "      Epoch    GPU_mem   box_loss   cls_loss   dfl_loss  Instances       Size\n",
            "      10/10      4.16G      1.709      1.068     0.9529         48        640: 100% 29/29 [00:52<00:00,  1.81s/it]\n",
            "                 Class     Images  Instances      Box(P          R      mAP50  mAP50-95): 100% 3/3 [00:01<00:00,  1.81it/s]\n",
            "                   all         67        336      0.923      0.819      0.888      0.438\n",
            "\n",
            "10 epochs completed in 0.184 hours.\n",
            "Optimizer stripped from runs/detect/train3/weights/last.pt, 22.5MB\n",
            "Optimizer stripped from runs/detect/train3/weights/best.pt, 22.5MB\n",
            "\n",
            "Validating runs/detect/train3/weights/best.pt...\n",
            "Ultralytics YOLOv8.2.42 🚀 Python-3.10.12 torch-2.3.0+cu121 CUDA:0 (Tesla T4, 15102MiB)\n",
            "Model summary (fused): 168 layers, 11127906 parameters, 0 gradients, 28.4 GFLOPs\n",
            "                 Class     Images  Instances      Box(P          R      mAP50  mAP50-95): 100% 3/3 [00:05<00:00,  1.73s/it]\n",
            "                   all         67        336      0.926      0.807      0.888      0.446\n",
            "                    Mh         11         57      0.955      0.982      0.974      0.586\n",
            "                    Mb         14         73      0.959      0.638      0.823      0.384\n",
            "                    Oc         12         58      0.973      0.845      0.921      0.444\n",
            "                    Sh         14         68      0.948      0.882      0.958      0.466\n",
            "                    Sp         16         80      0.796      0.688      0.765      0.351\n",
            "Speed: 0.2ms preprocess, 5.7ms inference, 0.0ms loss, 2.7ms postprocess per image\n",
            "Results saved to \u001b[1mruns/detect/train3\u001b[0m\n",
            "💡 Learn more at https://docs.ultralytics.com/modes/train\n"
          ]
        }
      ]
    },
    {
      "cell_type": "code",
      "source": [
        "!yolo task=detect mode=val model=/content/drive/MyDrive/yolo/runs/detect/train2/weights/best.pt data=dataset.yaml"
      ],
      "metadata": {
        "colab": {
          "base_uri": "https://localhost:8080/"
        },
        "id": "AzFljHQORXXF",
        "outputId": "9a2e1db7-126d-4d93-d71d-8bfcc4edc399"
      },
      "execution_count": 9,
      "outputs": [
        {
          "output_type": "stream",
          "name": "stdout",
          "text": [
            "Ultralytics YOLOv8.2.42 🚀 Python-3.10.12 torch-2.3.0+cu121 CUDA:0 (Tesla T4, 15102MiB)\n",
            "Model summary (fused): 168 layers, 11127906 parameters, 0 gradients, 28.4 GFLOPs\n",
            "\u001b[34m\u001b[1mval: \u001b[0mScanning /content/drive/MyDrive/yolo/data/val/labels.cache... 67 images, 0 backgrounds, 0 corrupt: 100% 67/67 [00:00<?, ?it/s]\n",
            "                 Class     Images  Instances      Box(P          R      mAP50  mAP50-95): 100% 5/5 [00:11<00:00,  2.36s/it]\n",
            "                   all         67        336      0.939       0.81      0.895      0.447\n",
            "                    Mh         11         57      0.987          1      0.995      0.596\n",
            "                    Mb         14         73      0.959      0.636      0.836      0.373\n",
            "                    Oc         12         58      0.975      0.845      0.921      0.446\n",
            "                    Sh         14         68      0.951      0.882      0.957       0.47\n",
            "                    Sp         16         80      0.824      0.688      0.765      0.349\n",
            "Speed: 6.9ms preprocess, 46.8ms inference, 0.0ms loss, 27.7ms postprocess per image\n",
            "Results saved to \u001b[1mruns/detect/val6\u001b[0m\n",
            "💡 Learn more at https://docs.ultralytics.com/modes/val\n"
          ]
        }
      ]
    },
    {
      "cell_type": "code",
      "source": [
        "!yolo task=detect mode=predict model=/content/drive/MyDrive/yolo/runs/detect/train2/weights/best.pt source=/content/drive/MyDrive/yolo/data/test/images conf=0.30"
      ],
      "metadata": {
        "id": "75tX1AzVTvwX",
        "colab": {
          "base_uri": "https://localhost:8080/"
        },
        "outputId": "c014a61b-2b37-45ba-de90-1a2f888e2d3b"
      },
      "execution_count": 10,
      "outputs": [
        {
          "output_type": "stream",
          "name": "stdout",
          "text": [
            "Ultralytics YOLOv8.2.42 🚀 Python-3.10.12 torch-2.3.0+cu121 CUDA:0 (Tesla T4, 15102MiB)\n",
            "Model summary (fused): 168 layers, 11127906 parameters, 0 gradients, 28.4 GFLOPs\n",
            "\n",
            "image 1/48 /content/drive/MyDrive/yolo/data/test/images/01_missing_hole_03.jpg: 352x640 3 Mhs, 69.3ms\n",
            "image 2/48 /content/drive/MyDrive/yolo/data/test/images/01_missing_hole_05.jpg: 352x640 3 Mhs, 10.7ms\n",
            "image 3/48 /content/drive/MyDrive/yolo/data/test/images/01_missing_hole_06.jpg: 352x640 3 Mhs, 10.6ms\n",
            "image 4/48 /content/drive/MyDrive/yolo/data/test/images/01_missing_hole_07.jpg: 352x640 3 Mhs, 10.7ms\n",
            "image 5/48 /content/drive/MyDrive/yolo/data/test/images/01_missing_hole_08.jpg: 352x640 3 Mhs, 10.8ms\n",
            "image 6/48 /content/drive/MyDrive/yolo/data/test/images/01_missing_hole_18.jpg: 352x640 3 Mhs, 10.8ms\n",
            "image 7/48 /content/drive/MyDrive/yolo/data/test/images/01_mouse_bite_01.jpg: 352x640 (no detections), 10.6ms\n",
            "image 8/48 /content/drive/MyDrive/yolo/data/test/images/01_mouse_bite_05.jpg: 352x640 (no detections), 10.6ms\n",
            "image 9/48 /content/drive/MyDrive/yolo/data/test/images/01_mouse_bite_06.jpg: 352x640 (no detections), 10.6ms\n",
            "image 10/48 /content/drive/MyDrive/yolo/data/test/images/01_mouse_bite_10.jpg: 352x640 1 Sp, 10.7ms\n",
            "image 11/48 /content/drive/MyDrive/yolo/data/test/images/01_open_circuit_09.jpg: 352x640 (no detections), 10.6ms\n",
            "image 12/48 /content/drive/MyDrive/yolo/data/test/images/01_open_circuit_10.jpg: 352x640 (no detections), 10.7ms\n",
            "image 13/48 /content/drive/MyDrive/yolo/data/test/images/01_open_circuit_11.jpg: 352x640 1 Oc, 10.7ms\n",
            "image 14/48 /content/drive/MyDrive/yolo/data/test/images/01_open_circuit_13.jpg: 352x640 (no detections), 10.7ms\n",
            "image 15/48 /content/drive/MyDrive/yolo/data/test/images/01_open_circuit_14.jpg: 352x640 1 Oc, 10.7ms\n",
            "image 16/48 /content/drive/MyDrive/yolo/data/test/images/01_open_circuit_15.jpg: 352x640 (no detections), 10.7ms\n",
            "image 17/48 /content/drive/MyDrive/yolo/data/test/images/01_short_03.jpg: 352x640 2 Shs, 11.4ms\n",
            "image 18/48 /content/drive/MyDrive/yolo/data/test/images/01_short_14.jpg: 352x640 1 Sh, 10.8ms\n",
            "image 19/48 /content/drive/MyDrive/yolo/data/test/images/01_short_15.jpg: 352x640 1 Sh, 10.9ms\n",
            "image 20/48 /content/drive/MyDrive/yolo/data/test/images/01_short_16.jpg: 352x640 (no detections), 10.7ms\n",
            "image 21/48 /content/drive/MyDrive/yolo/data/test/images/01_short_17.jpg: 352x640 1 Sh, 10.6ms\n",
            "image 22/48 /content/drive/MyDrive/yolo/data/test/images/01_spur_05.jpg: 352x640 (no detections), 10.7ms\n",
            "image 23/48 /content/drive/MyDrive/yolo/data/test/images/01_spur_18.jpg: 352x640 (no detections), 10.7ms\n",
            "image 24/48 /content/drive/MyDrive/yolo/data/test/images/01_spur_20.jpg: 352x640 (no detections), 10.6ms\n",
            "image 25/48 /content/drive/MyDrive/yolo/data/test/images/04_missing_hole_01.jpg: 544x640 3 Mhs, 66.7ms\n",
            "image 26/48 /content/drive/MyDrive/yolo/data/test/images/04_missing_hole_03.jpg: 544x640 3 Mhs, 15.8ms\n",
            "image 27/48 /content/drive/MyDrive/yolo/data/test/images/04_missing_hole_09.jpg: 544x640 3 Mhs, 15.8ms\n",
            "image 28/48 /content/drive/MyDrive/yolo/data/test/images/04_missing_hole_11.jpg: 544x640 2 Mhs, 15.8ms\n",
            "image 29/48 /content/drive/MyDrive/yolo/data/test/images/04_mouse_bite_02.jpg: 544x640 2 Mbs, 15.8ms\n",
            "image 30/48 /content/drive/MyDrive/yolo/data/test/images/04_mouse_bite_04.jpg: 544x640 (no detections), 15.8ms\n",
            "image 31/48 /content/drive/MyDrive/yolo/data/test/images/04_mouse_bite_11.jpg: 544x640 2 Mbs, 15.8ms\n",
            "image 32/48 /content/drive/MyDrive/yolo/data/test/images/04_mouse_bite_13.jpg: 544x640 2 Mbs, 15.8ms\n",
            "image 33/48 /content/drive/MyDrive/yolo/data/test/images/04_open_circuit_03.jpg: 544x640 3 Ocs, 15.8ms\n",
            "image 34/48 /content/drive/MyDrive/yolo/data/test/images/04_open_circuit_10.jpg: 544x640 2 Ocs, 15.8ms\n",
            "image 35/48 /content/drive/MyDrive/yolo/data/test/images/04_open_circuit_18.jpg: 544x640 1 Oc, 15.8ms\n",
            "image 36/48 /content/drive/MyDrive/yolo/data/test/images/04_open_circuit_19.jpg: 544x640 2 Ocs, 15.8ms\n",
            "image 37/48 /content/drive/MyDrive/yolo/data/test/images/04_open_circuit_20.jpg: 544x640 1 Oc, 15.8ms\n",
            "image 38/48 /content/drive/MyDrive/yolo/data/test/images/04_short_03.jpg: 544x640 3 Shs, 15.8ms\n",
            "image 39/48 /content/drive/MyDrive/yolo/data/test/images/04_short_04.jpg: 544x640 3 Shs, 15.8ms\n",
            "image 40/48 /content/drive/MyDrive/yolo/data/test/images/04_short_05.jpg: 544x640 2 Shs, 15.8ms\n",
            "image 41/48 /content/drive/MyDrive/yolo/data/test/images/04_short_11.jpg: 544x640 3 Shs, 15.8ms\n",
            "image 42/48 /content/drive/MyDrive/yolo/data/test/images/04_spur_03.jpg: 544x640 1 Sh, 2 Sps, 15.8ms\n",
            "image 43/48 /content/drive/MyDrive/yolo/data/test/images/04_spur_06.jpg: 544x640 2 Sps, 15.8ms\n",
            "image 44/48 /content/drive/MyDrive/yolo/data/test/images/04_spur_16.jpg: 544x640 1 Sp, 15.8ms\n",
            "image 45/48 /content/drive/MyDrive/yolo/data/test/images/04_spur_17.jpg: 544x640 2 Sps, 15.8ms\n",
            "image 46/48 /content/drive/MyDrive/yolo/data/test/images/05_missing_hole_07.jpg: 544x640 5 Mhs, 15.8ms\n",
            "image 47/48 /content/drive/MyDrive/yolo/data/test/images/05_missing_hole_09.jpg: 544x640 5 Mhs, 15.8ms\n",
            "image 48/48 /content/drive/MyDrive/yolo/data/test/images/05_mouse_bite_04.jpg: 544x640 4 Mbs, 15.8ms\n",
            "Speed: 2.9ms preprocess, 15.5ms inference, 13.5ms postprocess per image at shape (1, 3, 544, 640)\n",
            "Results saved to \u001b[1mruns/detect/predict\u001b[0m\n",
            "💡 Learn more at https://docs.ultralytics.com/modes/predict\n"
          ]
        }
      ]
    }
  ]
}